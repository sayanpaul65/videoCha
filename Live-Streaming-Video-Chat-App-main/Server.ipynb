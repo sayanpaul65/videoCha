{
 "cells": [
  {
   "cell_type": "code",
   "execution_count": null,
   "id": "0eb8e9f4",
   "metadata": {},
   "outputs": [
    {
     "name": "stdout",
     "output_type": "stream",
     "text": [
      "HOST IP: 192.168.56.1\n",
      "SOCKET IS CREATED SUCCESSFULLY\n",
      "SOCKET IS BINDED SUCCESSFULLY\n",
      "LISTENING AT: ('192.168.56.1', 9999)\n",
      "CONNECTED WITH: ('192.168.56.1', 49934)\n"
     ]
    }
   ],
   "source": [
    "import socket, cv2,struct,pickle\n",
    "\n",
    "# CREATION OF SOCKET\n",
    "serverSocket = socket.socket(socket.AF_INET,socket.SOCK_STREAM)\n",
    "hostName  = socket.gethostname()\n",
    "hostIp = socket.gethostbyname(hostName)\n",
    "print('HOST IP:',hostIp)\n",
    "port = 9999\n",
    "socketAddress = (hostIp,port)\n",
    "print(\"SOCKET IS CREATED SUCCESSFULLY\")\n",
    "\n",
    "\n",
    "serverSocket.bind(socketAddress)\n",
    "print(\"SOCKET IS BINDED SUCCESSFULLY\")\n",
    "\n",
    "# SOCKET LISTEN\n",
    "serverSocket.listen(5)\n",
    "print(\"LISTENING AT:\",socketAddress)\n",
    "\n",
    "# ACCEPTANCE OF SOCKET\n",
    "while True:\n",
    "    clientSocket,address = serverSocket.accept()\n",
    "    print('CONNECTED WITH:',address)\n",
    "    if clientSocket:\n",
    "        video = cv2.VideoCapture(0)\n",
    "        \n",
    "        while(video.isOpened()):\n",
    "            img,frame = video.read()\n",
    "            d = pickle.dumps(frame)\n",
    "            message = struct.pack(\"Q\",len(d))+d\n",
    "            clientSocket.sendall(message)\n",
    "            \n",
    "            cv2.imshow('TRANSMITTING VIDEO - SERVER ',frame)\n",
    "            key = cv2.waitKey(1) & 0xFF\n",
    "            if key ==ord('q'):\n",
    "                clientSocket.close()"
   ]
  },
  {
   "cell_type": "code",
   "execution_count": null,
   "id": "b3622363",
   "metadata": {},
   "outputs": [],
   "source": []
  }
 ],
 "metadata": {
  "kernelspec": {
   "display_name": "Python 3",
   "language": "python",
   "name": "python3"
  },
  "language_info": {
   "codemirror_mode": {
    "name": "ipython",
    "version": 3
   },
   "file_extension": ".py",
   "mimetype": "text/x-python",
   "name": "python",
   "nbconvert_exporter": "python",
   "pygments_lexer": "ipython3",
   "version": "3.8.8"
  }
 },
 "nbformat": 4,
 "nbformat_minor": 5
}
